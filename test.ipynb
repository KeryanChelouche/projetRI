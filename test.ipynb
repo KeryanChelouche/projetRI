{
 "cells": [
  {
   "cell_type": "code",
   "execution_count": 2,
   "metadata": {},
   "outputs": [
    {
     "name": "stderr",
     "output_type": "stream",
     "text": [
      "/Users/karimasadykova/opt/anaconda3/lib/python3.9/site-packages/scipy/__init__.py:146: UserWarning: A NumPy version >=1.16.5 and <1.23.0 is required for this version of SciPy (detected version 1.23.5\n",
      "  warnings.warn(f\"A NumPy version >={np_minversion} and <{np_maxversion}\"\n"
     ]
    }
   ],
   "source": [
    "from l2r_class import *"
   ]
  },
  {
   "attachments": {},
   "cell_type": "markdown",
   "metadata": {},
   "source": [
    "### Chargement json (Top documents les plus non-pertinents pour chaque requete selon le score BM25)"
   ]
  },
  {
   "cell_type": "code",
   "execution_count": 3,
   "metadata": {},
   "outputs": [
    {
     "name": "stdout",
     "output_type": "stream",
     "text": [
      "[{'pid': '6948601', 'bm25-score': 26.068258, 'ce-score': 3.581289291381836}, {'pid': '5129919', 'bm25-score': 26.007563, 'ce-score': 8.257364273071289}, {'pid': '6717931', 'bm25-score': 25.934547, 'ce-score': 8.866464614868164}, {'pid': '1065943', 'bm25-score': 25.258688, 'ce-score': 5.258519172668457}, {'pid': '1626276', 'bm25-score': 25.153275, 'ce-score': 4.19371223449707}, {'pid': '981824', 'bm25-score': 24.716213, 'ce-score': 8.563857078552246}, {'pid': '6449111', 'bm25-score': 24.62115, 'ce-score': 4.907355785369873}, {'pid': '1028927', 'bm25-score': 24.54112, 'ce-score': 7.617893695831299}, {'pid': '2524942', 'bm25-score': 24.355902, 'ce-score': 1.5268436670303345}, {'pid': '5810175', 'bm25-score': 24.315733, 'ce-score': -0.6152520179748535}, {'pid': '6236527', 'bm25-score': 24.3093, 'ce-score': -2.9456772804260254}, {'pid': '7179545', 'bm25-score': 24.130537, 'ce-score': 10.018341064453125}, {'pid': '168979', 'bm25-score': 24.130537, 'ce-score': 10.202350616455078}, {'pid': '150383', 'bm25-score': 24.026999, 'ce-score': 1.7948371171951294}, {'pid': '168983', 'bm25-score': 23.931519, 'ce-score': 8.693719863891602}, {'pid': '7027047', 'bm25-score': 23.751867, 'ce-score': 4.469407081604004}, {'pid': '3559703', 'bm25-score': 23.708506, 'ce-score': 0.4720204472541809}, {'pid': '8768336', 'bm25-score': 23.655045, 'ce-score': -1.00309157371521}, {'pid': '5476579', 'bm25-score': 23.634827, 'ce-score': 1.8172178268432617}, {'pid': '915244', 'bm25-score': 23.573374, 'ce-score': 1.7467658519744873}, {'pid': '2202253', 'bm25-score': 23.533915, 'ce-score': -1.4857474565505981}, {'pid': '1743842', 'bm25-score': 23.515203, 'ce-score': 4.076294422149658}, {'pid': '7727041', 'bm25-score': 23.480293, 'ce-score': -1.777407169342041}, {'pid': '1036624', 'bm25-score': 23.44868, 'ce-score': -0.7370984554290771}, {'pid': '8432142', 'bm25-score': 23.378412, 'ce-score': 4.278080463409424}, {'pid': '2236979', 'bm25-score': 23.356024, 'ce-score': -1.0950472354888916}, {'pid': '724018', 'bm25-score': 23.303, 'ce-score': 2.5531094074249268}, {'pid': '7179544', 'bm25-score': 23.23503, 'ce-score': 10.004817008972168}, {'pid': '7349780', 'bm25-score': 23.23503, 'ce-score': 10.176589965820312}, {'pid': '7179539', 'bm25-score': 23.164213, 'ce-score': 8.594615936279297}, {'pid': '6072080', 'bm25-score': 23.154572, 'ce-score': 1.8897120952606201}, {'pid': '7790852', 'bm25-score': 23.137955, 'ce-score': 7.299615859985352}, {'pid': '4873670', 'bm25-score': 23.049414, 'ce-score': 8.61693000793457}, {'pid': '4389296', 'bm25-score': 23.043657, 'ce-score': 0.10016749799251556}, {'pid': '2305477', 'bm25-score': 23.0083, 'ce-score': 6.883630752563477}, {'pid': '1626275', 'bm25-score': 22.980803, 'ce-score': 10.320749282836914}, {'pid': '291845', 'bm25-score': 22.946188, 'ce-score': 0.7852426171302795}, {'pid': '1743847', 'bm25-score': 22.919767, 'ce-score': 2.7261080741882324}, {'pid': '1508485', 'bm25-score': 22.919767, 'ce-score': 2.0838329792022705}, {'pid': '4298457', 'bm25-score': 22.919767, 'ce-score': 1.8327460289001465}, {'pid': '1831337', 'bm25-score': 22.769234, 'ce-score': -0.6380012035369873}, {'pid': '1760417', 'bm25-score': 22.765985, 'ce-score': 0.926922082901001}, {'pid': '8768340', 'bm25-score': 22.75751, 'ce-score': 4.037473201751709}, {'pid': '8432143', 'bm25-score': 22.690416, 'ce-score': 2.498434543609619}, {'pid': '1971355', 'bm25-score': 22.671963, 'ce-score': 1.148393154144287}, {'pid': '1133925', 'bm25-score': 22.646973, 'ce-score': 0.13919004797935486}, {'pid': '2105819', 'bm25-score': 22.646744, 'ce-score': 3.2860398292541504}, {'pid': '168975', 'bm25-score': 22.572918, 'ce-score': 10.097441673278809}, {'pid': '5132446', 'bm25-score': 22.504288, 'ce-score': 2.575753688812256}, {'pid': '1316646', 'bm25-score': 22.466309, 'ce-score': 1.7576978206634521}]\n"
     ]
    }
   ],
   "source": [
    "import json\n",
    "fichier = 'msmarco-hard-negatives.jsonl'\n",
    "with open(fichier, 'r') as f:\n",
    "    first_line = f.readline()\n",
    "    data = json.loads(first_line)\n",
    "    print(data['neg']['bm25'])"
   ]
  },
  {
   "cell_type": "code",
   "execution_count": 4,
   "metadata": {},
   "outputs": [
    {
     "name": "stdout",
     "output_type": "stream",
     "text": [
      "40\n",
      "[('571018', '7349777', 1), ('571018', '6948601', 0), ('571018', '5129919', 0), ('571018', '6717931', 0), ('571018', '1065943', 0), ('571018', '1626276', 0), ('571018', '981824', 0), ('571018', '6449111', 0), ('571018', '1028927', 0), ('571018', '2524942', 0), ('832106', '5090093', 1), ('832106', '5090096', 0), ('832106', '210166', 0), ('832106', '4877671', 0), ('832106', '851808', 0), ('832106', '210158', 0), ('832106', '2492227', 0), ('832106', '3094439', 0), ('832106', '5434531', 0), ('832106', '210165', 0)]\n"
     ]
    }
   ],
   "source": [
    "import json\n",
    "\n",
    "# Load the JSON data from a file\n",
    "data_list = []\n",
    "with open('msmarco-hard-negatives.jsonl', 'r') as file:\n",
    "    for line in file:\n",
    "        #print(json.loads(line))\n",
    "        data_list.append(json.loads(line))\n",
    "        if len(data_list) > 3:\n",
    "            break\n",
    "\n",
    "# Now data_list contains multiple JSON objects, one per line from the file\n",
    "data_id = []\n",
    "\n",
    "for data in data_list:\n",
    "    # Extract positive examples\n",
    "    pos_examples = [(data['qid'], pos['pid'], 1) for i, pos in enumerate(data['pos']) if i < 1]\n",
    "\n",
    "    # Extract negative examples with a bm25_score\n",
    "    neg_examples = [(data['qid'], neg['pid'], 0) for i, neg in enumerate(data['neg']['bm25']) if i < 9]\n",
    "\n",
    "    # Combine positive and negative examples\n",
    "    data_id.extend(pos_examples + neg_examples)\n",
    "\n",
    "# Print the final_data\n",
    "print(len(data_id))\n",
    "print(data_id[:20])"
   ]
  },
  {
   "attachments": {},
   "cell_type": "markdown",
   "metadata": {},
   "source": [
    "### Chargement MS-Marco"
   ]
  },
  {
   "cell_type": "code",
   "execution_count": 5,
   "metadata": {},
   "outputs": [
    {
     "name": "stdout",
     "output_type": "stream",
     "text": [
      "Dataset(id='msmarco-passage/train', provides=['docs', 'queries', 'qrels', 'scoreddocs', 'docpairs'])\n"
     ]
    }
   ],
   "source": [
    "import ir_datasets\n",
    "\n",
    "# Load the msmarco dataset\n",
    "dataset = ir_datasets.load('msmarco-passage/train')\n",
    "store = dataset.docs_store()\n",
    "print(dataset)"
   ]
  },
  {
   "cell_type": "code",
   "execution_count": 6,
   "metadata": {},
   "outputs": [],
   "source": [
    "dict_query = {}\n",
    "\n",
    "for query in dataset.queries_iter():\n",
    "    dict_query[query.query_id] = query.text\n",
    "    "
   ]
  },
  {
   "attachments": {},
   "cell_type": "markdown",
   "metadata": {},
   "source": [
    "### Creation Data_NSBM25"
   ]
  },
  {
   "cell_type": "code",
   "execution_count": 29,
   "metadata": {},
   "outputs": [
    {
     "name": "stdout",
     "output_type": "stream",
     "text": [
      "40\n",
      "[('what are the liberal arts?', 'liberal arts. 1. the academic course of instruction at a college intended to provide general knowledge and comprising the arts, humanities, natural sciences, and social sciences, as opposed to professional or technical subjects.', array([0., 1.])), ('what are the liberal arts?', 'The New York State Education Department requires 60 Liberal Arts credits in a Bachelor of Science program and 90 Liberal Arts credits in a Bachelor of Arts program. In the list of course descriptions, courses which are liberal arts for all students are identified by (Liberal Arts) after the course number.', array([1., 0.])), ('what are the liberal arts?', \"What Does it Mean to Study Liberal Arts? A liberal arts major offers a broad overview of the arts, sciences, and humanities. Within the context of a liberal arts degree, you can study modern languages, music, English, anthropology, history, women's studies, psychology, math, political science or many other disciplines.\", array([1., 0.])), ('what are the liberal arts?', 'What Is Liberal Studies? Liberal studies, also known as liberal arts, comprises a broad exploration of social sciences, natural sciences, humanities, and the arts. If you are interested in a wide-ranging education in humanities, communication, and thinking, read on to find out about the educational and career possibilities in liberal studies.', array([1., 0.])), ('what are the liberal arts?', 'You can choose from an array of liberal arts majors. Most of these are offered in the liberal arts departments of colleges that belong to universities and at smaller colleges that are designated as liberal arts institutions.', array([1., 0.]))]\n"
     ]
    }
   ],
   "source": [
    "import numpy as np\n",
    "\n",
    "def create_nsbm25():\n",
    "\t# Create an empty list to store the modified data\n",
    "\tdata_bm25 = []\n",
    "\n",
    "\tfor data in data_id:\n",
    "\t\t# Extract the values from the original data\n",
    "\t\tdict_value = dict_query[data[0]]\n",
    "\t\tstore_value = store.get(data[1])[1]\n",
    "\t\tclass_value = data[2]\n",
    "\t\t\n",
    "\t\t# Perform one-hot encoding\n",
    "\t\tclass_vector = np.zeros(2)\n",
    "\t\tclass_vector[class_value] = 1\n",
    "\t\t\n",
    "\t\t# Create a modified tuple with the encoded class vector\n",
    "\t\tmodified_tuple = (dict_value, store_value, class_vector)\n",
    "\t\t\n",
    "\t\t# Append the modified tuple to the list\n",
    "\t\tdata_bm25.append(modified_tuple)\n",
    "\treturn data_bm25\n",
    "\n",
    "data_bm25 = create_nsbm25()\n",
    "# Print the modified_data\n",
    "print(len(data_bm25))\n",
    "print(data_bm25[:5])"
   ]
  },
  {
   "attachments": {},
   "cell_type": "markdown",
   "metadata": {},
   "source": [
    "### Chargement modele BERT"
   ]
  },
  {
   "cell_type": "code",
   "execution_count": 8,
   "metadata": {},
   "outputs": [
    {
     "name": "stderr",
     "output_type": "stream",
     "text": [
      "Some weights of the model checkpoint at huawei-noah/TinyBERT_General_4L_312D were not used when initializing BertModel: ['fit_denses.3.weight', 'cls.predictions.transform.LayerNorm.weight', 'fit_denses.1.weight', 'cls.predictions.transform.dense.weight', 'cls.seq_relationship.weight', 'fit_denses.2.weight', 'cls.predictions.decoder.weight', 'fit_denses.0.weight', 'fit_denses.3.bias', 'fit_denses.4.weight', 'cls.predictions.transform.dense.bias', 'fit_denses.1.bias', 'cls.seq_relationship.bias', 'fit_denses.4.bias', 'cls.predictions.transform.LayerNorm.bias', 'fit_denses.2.bias', 'cls.predictions.bias', 'fit_denses.0.bias']\n",
      "- This IS expected if you are initializing BertModel from the checkpoint of a model trained on another task or with another architecture (e.g. initializing a BertForSequenceClassification model from a BertForPreTraining model).\n",
      "- This IS NOT expected if you are initializing BertModel from the checkpoint of a model that you expect to be exactly identical (initializing a BertForSequenceClassification model from a BertForSequenceClassification model).\n"
     ]
    }
   ],
   "source": [
    "tokenizer = BertTokenizer.from_pretrained(\"huawei-noah/TinyBERT_General_4L_312D\")\n",
    "bert_model = BertModel.from_pretrained(\"huawei-noah/TinyBERT_General_4L_312D\")"
   ]
  },
  {
   "attachments": {},
   "cell_type": "markdown",
   "metadata": {},
   "source": [
    "### LS and T-LS"
   ]
  },
  {
   "cell_type": "code",
   "execution_count": 31,
   "metadata": {},
   "outputs": [],
   "source": [
    "def learnModeLS(data, num_epochs=1, tls=-1, eps=1e-8):\n",
    "\tdataset = LTRDataset(data, tokenizer, max_len=512)\n",
    "\n",
    "\t# Create data loaders\n",
    "\tloader = DataLoader(dataset, batch_size=16, num_workers=4)\n",
    "\n",
    "\t# Instantiate the model\n",
    "\tmodel = BertLTRModel(bert_model)\n",
    "\n",
    "\t# Move model to GPU if available\n",
    "\tdevice = torch.device('cuda' if torch.cuda.is_available() else 'cpu')\n",
    "\tmodel = model.to(device)\n",
    "\n",
    "\t# Define loss function and optimizer\n",
    "\tcriterion = nn.CrossEntropyLoss(label_smoothing=eps)\n",
    "\toptimizer = torch.optim.AdamW(model.parameters(), lr=1e-5)\n",
    "\n",
    "\tlist_loss = []\n",
    "\t# Training loop\n",
    "\tfor epoch in range(num_epochs):\n",
    "\t\tmodel.train()\n",
    "\t\ttotal_loss = 0\n",
    "\n",
    "\t\tfor batch in loader:\n",
    "\t\t\t# Move batch tensors to the same device as the model \n",
    "\t\t\tinput_ids = batch['input_ids'].to(device)\n",
    "\t\t\tattention_mask = batch['attention_mask'].to(device)\n",
    "\t\t\trelevance = batch['relevance'].to(device)\n",
    "\n",
    "\t\t\t# Forward pass\n",
    "\t\t\toutputs = model(input_ids=input_ids, attention_mask=attention_mask)\n",
    "\n",
    "\t\t\t# Compute loss\n",
    "\t\t\tif tls == num_epochs:\n",
    "\t\t\t\tcriterion = nn.CrossEntropyLoss()\n",
    "\t\t\tloss = criterion(outputs, relevance) \n",
    "\n",
    "\t\t\t# Backward pass and optimize\n",
    "\t\t\toptimizer.zero_grad()\n",
    "\t\t\tloss.backward()\n",
    "\t\t\toptimizer.step()\n",
    "\n",
    "\t\t\ttotal_loss += loss.item()\n",
    "\t\tloss = total_loss/len(loader)\n",
    "\t\tlist_loss.append(loss)\n",
    "\t\tprint(f'Epoch {epoch}, Loss: {loss}')\n",
    "\treturn model, list_loss\n",
    "\t"
   ]
  },
  {
   "attachments": {},
   "cell_type": "markdown",
   "metadata": {},
   "source": [
    "### Creation Data_NSrandom"
   ]
  },
  {
   "cell_type": "code",
   "execution_count": 27,
   "metadata": {},
   "outputs": [],
   "source": [
    "import random\n",
    "\n",
    "def create_nsrandom_samples(data_bm25):\n",
    "\tdata_nsrand = []\n",
    "\tqueries = [data_bm25[i] for i in range(0, len(data_bm25), 10)]\n",
    "\tdocs = {data_bm25[i][1] for i in range(len(data_bm25))}\n",
    "\n",
    "\tfor query in queries:\n",
    "\t\tdata_nsrand.append(query)\n",
    "\t\tchosen_docs = [query[1]]\n",
    "\t\tfor i in range(9):\n",
    "\t\t\tdoc = random.choice(list(docs))\n",
    "\t\t\twhile doc in chosen_docs:\n",
    "\t\t\t\tdoc = random.choice(list(docs))\n",
    "\t\t\tdata_nsrand.append((query[0], doc, np.array([1., 0.])))\n",
    "\t\t\tchosen_docs.append(doc)\n",
    "\treturn data_nsrand"
   ]
  },
  {
   "cell_type": "code",
   "execution_count": 28,
   "metadata": {},
   "outputs": [
    {
     "name": "stdout",
     "output_type": "stream",
     "text": [
      "[('what are the liberal arts?', 'liberal arts. 1. the academic course of instruction at a college intended to provide general knowledge and comprising the arts, humanities, natural sciences, and social sciences, as opposed to professional or technical subjects.', array([0., 1.])), ('what are the liberal arts?', 'Fibrinolytic Therapy: What You Should Really Know; Fibrinolytic therapy is a crucial medical treatment that makes use of certain special drugs that will work in the body to break down the blood clots blocking the major arteries.ibrinolytic Therapy: What You Should Really Know; Fibrinolytic therapy is a crucial medical treatment that makes use of certain special drugs that will work in the body to break down the blood clots blocking the major arteries.', array([1., 0.])), ('what are the liberal arts?', 'Cardiovascular Disease: Fermented shrimp paste, which is a popular manipulation of the food, contains a fibrinolytic enzyme that can be used for thrombolytic therapy. Thrombolytic therapy is a way of breaking up dangerous blood clots within a person’s blood vessels.', array([1., 0.])), ('what are the liberal arts?', 'A liberal arts college is a four-year institution that focuses on the study of liberal arts. Liberal arts colleges are geared more toward the acquisition of knowledge and less toward specific professions. [MORE: The Path to Higher Education] Graduate school.', array([1., 0.])), ('what are the liberal arts?', \"BREAKING DOWN 'Dollar-Cost Averaging-DCA'. Eventually, the average cost per share of the security will become smaller and smaller. Dollar-cost averaging lessens the risk of investing a large amount in a single investment at the wrong time.For example, you decide to purchase $100 worth of XYZ each month for three months.EFINITION of 'Dollar-Cost Averaging-DCA'. The technique of buying a fixed dollar amount of a particular investment on a regular schedule, regardless of the share price.\", array([1., 0.])), ('what are the liberal arts?', \"The term mechanism of action is a pharmacological term that you commonly hear associated with medications or drugs. Let's gain an understanding of what mechanism of action means, and provide examples within the context of health conditions.\", array([1., 0.])), ('what are the liberal arts?', 'liberal arts. plural noun. Definition of liberal arts for English Language Learners. : areas of study (such as history, language, and literature) that are intended to give you general knowledge rather than to develop specific skills needed for a profession. Nglish: Translation of liberal arts for Spanish speakers Britannica.com: Encyclopedia article about liberal arts.', array([1., 0.])), ('what are the liberal arts?', 'There are a few things investors should understand before starting their own dollar cost averaging plan: Dollar cost averaging is a strategy that is better suited for investors with a lower risk tolerance and a long-term investment horizon.', array([1., 0.])), ('what are the liberal arts?', 'Dollar cost averaging is also called the constant dollar plan (in the US), pound-cost averaging (in the UK), and, irrespective of currency, as unit cost averaging or the cost average effect.', array([1., 0.])), ('what are the liberal arts?', \"Your platelet count will look something like Plat. 160x10.9/L, which means you have a platelet count of 160, which is in the normal range. If your platelet count is low, the blood test should be done again. This will keep track of whether or not your count is dropping. If your platelet count is extremely low, it may mean you're more likely to bleed either during or after birth, or during a caesarean section.\", array([1., 0.]))]\n",
      "[('what are the liberal arts?', 'liberal arts. 1. the academic course of instruction at a college intended to provide general knowledge and comprising the arts, humanities, natural sciences, and social sciences, as opposed to professional or technical subjects.', array([0., 1.])), ('what are the liberal arts?', 'The New York State Education Department requires 60 Liberal Arts credits in a Bachelor of Science program and 90 Liberal Arts credits in a Bachelor of Arts program. In the list of course descriptions, courses which are liberal arts for all students are identified by (Liberal Arts) after the course number.', array([1., 0.])), ('what are the liberal arts?', \"What Does it Mean to Study Liberal Arts? A liberal arts major offers a broad overview of the arts, sciences, and humanities. Within the context of a liberal arts degree, you can study modern languages, music, English, anthropology, history, women's studies, psychology, math, political science or many other disciplines.\", array([1., 0.])), ('what are the liberal arts?', 'What Is Liberal Studies? Liberal studies, also known as liberal arts, comprises a broad exploration of social sciences, natural sciences, humanities, and the arts. If you are interested in a wide-ranging education in humanities, communication, and thinking, read on to find out about the educational and career possibilities in liberal studies.', array([1., 0.])), ('what are the liberal arts?', 'You can choose from an array of liberal arts majors. Most of these are offered in the liberal arts departments of colleges that belong to universities and at smaller colleges that are designated as liberal arts institutions.', array([1., 0.])), ('what are the liberal arts?', 'Majors. You can choose from an array of liberal arts majors. Most of these are offered in the liberal arts departments of colleges that belong to universities and at smaller colleges that are designated as liberal arts institutions.', array([1., 0.])), ('what are the liberal arts?', 'liberal arts. plural noun. Definition of liberal arts for English Language Learners. : areas of study (such as history, language, and literature) that are intended to give you general knowledge rather than to develop specific skills needed for a profession. Nglish: Translation of liberal arts for Spanish speakers Britannica.com: Encyclopedia article about liberal arts.', array([1., 0.])), ('what are the liberal arts?', \"Because they award less than 50% of their degrees in engineering, and the rest in liberal arts (sciences). Baccalaureate colleges are a type of Liberal Arts colleges, But offering lesser number of degrees compared to LAC. It's the other way round. A liberal arts college focuses on liberal arts, e.g. sciences, literature, history, sociology, etc. They might offer a few professional degrees (most frequently engineering) as well, but typically the professional majors are well integrated into the liberal arts framework as well.\", array([1., 0.])), ('what are the liberal arts?', 'A liberal arts college is a four-year institution that focuses on the study of liberal arts. Liberal arts colleges are geared more toward the acquisition of knowledge and less toward specific professions. [MORE: The Path to Higher Education] Graduate school.', array([1., 0.])), ('what are the liberal arts?', '1 BA = Bachelor of Arts degree BS = Bachelor of Science degree. 2  I think the question requires more of an explanation than what the terms BA and BS translate to. 3  B.A. (Bachelor of Arts) A bachelor of arts (B.A.) degree is what is generally called a liberal arts degree. I think the question requires more of an explanation than what the terms BA and BS translate to. 2  B.A. (Bachelor of Arts) A bachelor of arts (B.A.) degree is what is generally called a liberal arts degree.', array([1., 0.]))]\n"
     ]
    }
   ],
   "source": [
    "data_nsrand = create_nsrandom_samples(data_bm25)\n",
    "print(data_nsrand[:10])\n",
    "print(data_bm25[:10])"
   ]
  },
  {
   "cell_type": "code",
   "execution_count": 32,
   "metadata": {},
   "outputs": [
    {
     "name": "stdout",
     "output_type": "stream",
     "text": [
      "-----LS pour NS_BM25-----\n",
      "Epoch 0, Loss: 0.680505096912384\n",
      "Epoch 1, Loss: 0.65514075756073\n",
      "Epoch 2, Loss: 0.6296883622805277\n",
      "Epoch 3, Loss: 0.606624960899353\n",
      "Epoch 4, Loss: 0.5825433929761251\n",
      "-----LS pour NS_rand-----\n",
      "Epoch 0, Loss: 0.6774391730626425\n",
      "Epoch 1, Loss: 0.6488092740376791\n",
      "Epoch 2, Loss: 0.6229330698649088\n",
      "Epoch 3, Loss: 0.5986324946085612\n",
      "Epoch 4, Loss: 0.5777320861816406\n"
     ]
    }
   ],
   "source": [
    "# LS\n",
    "print('-----LS pour NS_BM25-----')\n",
    "model_LS_bm25, list_loss_LS_bm25 = learnModelLS(data_bm25, num_epochs=5)\n",
    "print('-----LS pour NS_rand-----')\n",
    "model_LS_random, list_loss_LS_random = learnModelLS(data_nsrand, num_epochs=5)\n",
    "# 10 minutes au total pour 5 queries..."
   ]
  },
  {
   "cell_type": "code",
   "execution_count": 33,
   "metadata": {},
   "outputs": [
    {
     "name": "stdout",
     "output_type": "stream",
     "text": [
      "-----TLS pour NS_BM25-----\n",
      "Epoch 0, Loss: 0.6661476890246073\n",
      "Epoch 1, Loss: 0.6397204399108887\n",
      "Epoch 2, Loss: 0.6150433818499247\n",
      "Epoch 3, Loss: 0.5928896268208822\n",
      "Epoch 4, Loss: 0.5708221197128296\n",
      "-----TLS pour NS_rand-----\n",
      "Epoch 0, Loss: 0.712973972161611\n",
      "Epoch 1, Loss: 0.6828835805257162\n",
      "Epoch 2, Loss: 0.6551411549250284\n",
      "Epoch 3, Loss: 0.6293860872586569\n",
      "Epoch 4, Loss: 0.6055442094802856\n"
     ]
    }
   ],
   "source": [
    "# TLS\n",
    "print('-----TLS pour NS_BM25-----')\n",
    "model_TLS_bm25, list_loss_TLS_bm25 = learnModelLS(data_bm25, num_epochs=5, tls=2)\n",
    "print('-----TLS pour NS_rand-----')\n",
    "model_TLS_random, list_loss_TLS_random = learnModelLS(data_nsrand, num_epochs=5, tls=2)\n",
    "# 11 minutes au total pour 5 queries..."
   ]
  },
  {
   "attachments": {},
   "cell_type": "markdown",
   "metadata": {},
   "source": [
    "### WSLS"
   ]
  },
  {
   "cell_type": "code",
   "execution_count": 50,
   "metadata": {},
   "outputs": [],
   "source": [
    "from wsls_class import *\n",
    "\n",
    "def learnModelWSLS(data, num_epochs=1, tls=-1, eps=1e-8):\n",
    "\tdataset = LTRDataset(data, tokenizer, max_len=512)\n",
    "\n",
    "\t# Create data loaders\n",
    "\tloader = DataLoader(dataset, batch_size=16, num_workers=4)\n",
    "\n",
    "\t# Instantiate the model\n",
    "\tmodel = BertLTRModel(bert_model)\n",
    "\n",
    "\t# Move model to GPU if available\n",
    "\tdevice = torch.device('cuda' if torch.cuda.is_available() else 'cpu')\n",
    "\tmodel = model.to(device)\n",
    "\n",
    "\t# Define loss function and optimizer\n",
    "\tcriterion = WeaklySupervisedLabelSmoothingCrossEntropy(label_smoothing=eps)\n",
    "\toptimizer = torch.optim.AdamW(model.parameters(), lr=1e-5)\n",
    "\n",
    "\tlist_loss = []\n",
    "\t# Training loop\n",
    "\tfor epoch in range(num_epochs):\n",
    "\t\tmodel.train()\n",
    "\t\ttotal_loss = 0\n",
    "\n",
    "\t\tfor batch in loader:\n",
    "\t\t\t# Move batch tensors to the same device as the model \n",
    "\t\t\tinput_ids = batch['input_ids'].to(device)\n",
    "\t\t\tattention_mask = batch['attention_mask'].to(device)\n",
    "\t\t\trelevance = batch['relevance'].to(device)\n",
    "\n",
    "\t\t\t# Forward pass\n",
    "\t\t\toutputs = model(input_ids=input_ids, attention_mask=attention_mask)\n",
    "\n",
    "\t\t\t# Compute loss\n",
    "\t\t\tif tls == num_epochs:\n",
    "\t\t\t\tcriterion = nn.CrossEntropyLoss()\n",
    "\t\t\tloss = criterion(outputs, relevance) \n",
    "\n",
    "\t\t\t# Backward pass and optimize\n",
    "\t\t\toptimizer.zero_grad()\n",
    "\t\t\tloss.backward()\n",
    "\t\t\toptimizer.step()\n",
    "\n",
    "\t\t\ttotal_loss += loss.item()\n",
    "\t\tloss = total_loss/len(loader)\n",
    "\t\tlist_loss.append(loss)\n",
    "\t\tprint(f'Epoch {epoch}, Loss: {loss}')\n",
    "\treturn model, list_loss"
   ]
  },
  {
   "cell_type": "code",
   "execution_count": 51,
   "metadata": {},
   "outputs": [
    {
     "name": "stdout",
     "output_type": "stream",
     "text": [
      "-----WSLS pour NS_BM25-----\n"
     ]
    },
    {
     "ename": "NameError",
     "evalue": "name 'WeaklySupervisedLabelSmoothingCrossEntropy' is not defined",
     "output_type": "error",
     "traceback": [
      "\u001b[0;31m---------------------------------------------------------------------------\u001b[0m",
      "\u001b[0;31mNameError\u001b[0m                                 Traceback (most recent call last)",
      "\u001b[0;32m/var/folders/zf/0x6tvbjd3j70jvsbzmg1jvn40000gn/T/ipykernel_81790/4178895773.py\u001b[0m in \u001b[0;36m<module>\u001b[0;34m\u001b[0m\n\u001b[1;32m      1\u001b[0m \u001b[0;31m# WSLS\u001b[0m\u001b[0;34m\u001b[0m\u001b[0;34m\u001b[0m\u001b[0m\n\u001b[1;32m      2\u001b[0m \u001b[0mprint\u001b[0m\u001b[0;34m(\u001b[0m\u001b[0;34m'-----WSLS pour NS_BM25-----'\u001b[0m\u001b[0;34m)\u001b[0m\u001b[0;34m\u001b[0m\u001b[0;34m\u001b[0m\u001b[0m\n\u001b[0;32m----> 3\u001b[0;31m \u001b[0mmodel_WSLS_bm25\u001b[0m\u001b[0;34m,\u001b[0m \u001b[0mlist_loss_WSLS_bm25\u001b[0m \u001b[0;34m=\u001b[0m \u001b[0mlearnModelWSLS\u001b[0m\u001b[0;34m(\u001b[0m\u001b[0mdata_bm25\u001b[0m\u001b[0;34m,\u001b[0m \u001b[0mnum_epochs\u001b[0m\u001b[0;34m=\u001b[0m\u001b[0;36m5\u001b[0m\u001b[0;34m)\u001b[0m\u001b[0;34m\u001b[0m\u001b[0;34m\u001b[0m\u001b[0m\n\u001b[0m",
      "\u001b[0;32m/var/folders/zf/0x6tvbjd3j70jvsbzmg1jvn40000gn/T/ipykernel_81790/3382042211.py\u001b[0m in \u001b[0;36mlearnModelWSLS\u001b[0;34m(data, num_epochs, tls, eps)\u001b[0m\n\u001b[1;32m     15\u001b[0m \u001b[0;34m\u001b[0m\u001b[0m\n\u001b[1;32m     16\u001b[0m         \u001b[0;31m# Define loss function and optimizer\u001b[0m\u001b[0;34m\u001b[0m\u001b[0;34m\u001b[0m\u001b[0m\n\u001b[0;32m---> 17\u001b[0;31m         \u001b[0mcriterion\u001b[0m \u001b[0;34m=\u001b[0m \u001b[0mWeaklySupervisedLabelSmoothingCrossEntropy\u001b[0m\u001b[0;34m(\u001b[0m\u001b[0mlabel_smoothing\u001b[0m\u001b[0;34m=\u001b[0m\u001b[0meps\u001b[0m\u001b[0;34m)\u001b[0m\u001b[0;34m\u001b[0m\u001b[0;34m\u001b[0m\u001b[0m\n\u001b[0m\u001b[1;32m     18\u001b[0m         \u001b[0moptimizer\u001b[0m \u001b[0;34m=\u001b[0m \u001b[0mtorch\u001b[0m\u001b[0;34m.\u001b[0m\u001b[0moptim\u001b[0m\u001b[0;34m.\u001b[0m\u001b[0mAdamW\u001b[0m\u001b[0;34m(\u001b[0m\u001b[0mmodel\u001b[0m\u001b[0;34m.\u001b[0m\u001b[0mparameters\u001b[0m\u001b[0;34m(\u001b[0m\u001b[0;34m)\u001b[0m\u001b[0;34m,\u001b[0m \u001b[0mlr\u001b[0m\u001b[0;34m=\u001b[0m\u001b[0;36m1e-5\u001b[0m\u001b[0;34m)\u001b[0m\u001b[0;34m\u001b[0m\u001b[0;34m\u001b[0m\u001b[0m\n\u001b[1;32m     19\u001b[0m \u001b[0;34m\u001b[0m\u001b[0m\n",
      "\u001b[0;31mNameError\u001b[0m: name 'WeaklySupervisedLabelSmoothingCrossEntropy' is not defined"
     ]
    }
   ],
   "source": [
    "# WSLS\n",
    "print('-----WSLS pour NS_BM25-----')\n",
    "model_WSLS_bm25, list_loss_WSLS_bm25 = learnModelWSLS(data_bm25, num_epochs=5)"
   ]
  },
  {
   "cell_type": "code",
   "execution_count": 37,
   "metadata": {},
   "outputs": [
    {
     "name": "stdout",
     "output_type": "stream",
     "text": [
      "-----WSLS pour NS_rand-----\n"
     ]
    },
    {
     "ename": "KeyboardInterrupt",
     "evalue": "",
     "output_type": "error",
     "traceback": [
      "\u001b[0;31m---------------------------------------------------------------------------\u001b[0m",
      "\u001b[0;31mKeyboardInterrupt\u001b[0m                         Traceback (most recent call last)",
      "\u001b[0;32m/var/folders/zf/0x6tvbjd3j70jvsbzmg1jvn40000gn/T/ipykernel_81790/926382981.py\u001b[0m in \u001b[0;36m<module>\u001b[0;34m\u001b[0m\n\u001b[1;32m      1\u001b[0m \u001b[0;31m# WSLS\u001b[0m\u001b[0;34m\u001b[0m\u001b[0;34m\u001b[0m\u001b[0m\n\u001b[1;32m      2\u001b[0m \u001b[0mprint\u001b[0m\u001b[0;34m(\u001b[0m\u001b[0;34m'-----WSLS pour NS_rand-----'\u001b[0m\u001b[0;34m)\u001b[0m\u001b[0;34m\u001b[0m\u001b[0;34m\u001b[0m\u001b[0m\n\u001b[0;32m----> 3\u001b[0;31m \u001b[0mmodel_WSLS_random\u001b[0m\u001b[0;34m,\u001b[0m \u001b[0mlist_loss_WSLS_random\u001b[0m \u001b[0;34m=\u001b[0m \u001b[0mlearnModel\u001b[0m\u001b[0;34m(\u001b[0m\u001b[0mdata_nsrand\u001b[0m\u001b[0;34m,\u001b[0m \u001b[0mnum_epochs\u001b[0m\u001b[0;34m=\u001b[0m\u001b[0;36m5\u001b[0m\u001b[0;34m)\u001b[0m\u001b[0;34m\u001b[0m\u001b[0;34m\u001b[0m\u001b[0m\n\u001b[0m",
      "\u001b[0;32m/var/folders/zf/0x6tvbjd3j70jvsbzmg1jvn40000gn/T/ipykernel_81790/2537904631.py\u001b[0m in \u001b[0;36mlearnModel\u001b[0;34m(data, num_epochs, tls, eps)\u001b[0m\n\u001b[1;32m     22\u001b[0m                 \u001b[0mtotal_loss\u001b[0m \u001b[0;34m=\u001b[0m \u001b[0;36m0\u001b[0m\u001b[0;34m\u001b[0m\u001b[0;34m\u001b[0m\u001b[0m\n\u001b[1;32m     23\u001b[0m \u001b[0;34m\u001b[0m\u001b[0m\n\u001b[0;32m---> 24\u001b[0;31m                 \u001b[0;32mfor\u001b[0m \u001b[0mbatch\u001b[0m \u001b[0;32min\u001b[0m \u001b[0mloader\u001b[0m\u001b[0;34m:\u001b[0m\u001b[0;34m\u001b[0m\u001b[0;34m\u001b[0m\u001b[0m\n\u001b[0m\u001b[1;32m     25\u001b[0m                         \u001b[0;31m# Move batch tensors to the same device as the model\u001b[0m\u001b[0;34m\u001b[0m\u001b[0;34m\u001b[0m\u001b[0m\n\u001b[1;32m     26\u001b[0m                         \u001b[0minput_ids\u001b[0m \u001b[0;34m=\u001b[0m \u001b[0mbatch\u001b[0m\u001b[0;34m[\u001b[0m\u001b[0;34m'input_ids'\u001b[0m\u001b[0;34m]\u001b[0m\u001b[0;34m.\u001b[0m\u001b[0mto\u001b[0m\u001b[0;34m(\u001b[0m\u001b[0mdevice\u001b[0m\u001b[0;34m)\u001b[0m\u001b[0;34m\u001b[0m\u001b[0;34m\u001b[0m\u001b[0m\n",
      "\u001b[0;32m~/opt/anaconda3/lib/python3.9/site-packages/torch/utils/data/dataloader.py\u001b[0m in \u001b[0;36m__next__\u001b[0;34m(self)\u001b[0m\n\u001b[1;32m    632\u001b[0m                 \u001b[0;31m# TODO(https://github.com/pytorch/pytorch/issues/76750)\u001b[0m\u001b[0;34m\u001b[0m\u001b[0;34m\u001b[0m\u001b[0m\n\u001b[1;32m    633\u001b[0m                 \u001b[0mself\u001b[0m\u001b[0;34m.\u001b[0m\u001b[0m_reset\u001b[0m\u001b[0;34m(\u001b[0m\u001b[0;34m)\u001b[0m  \u001b[0;31m# type: ignore[call-arg]\u001b[0m\u001b[0;34m\u001b[0m\u001b[0;34m\u001b[0m\u001b[0m\n\u001b[0;32m--> 634\u001b[0;31m             \u001b[0mdata\u001b[0m \u001b[0;34m=\u001b[0m \u001b[0mself\u001b[0m\u001b[0;34m.\u001b[0m\u001b[0m_next_data\u001b[0m\u001b[0;34m(\u001b[0m\u001b[0;34m)\u001b[0m\u001b[0;34m\u001b[0m\u001b[0;34m\u001b[0m\u001b[0m\n\u001b[0m\u001b[1;32m    635\u001b[0m             \u001b[0mself\u001b[0m\u001b[0;34m.\u001b[0m\u001b[0m_num_yielded\u001b[0m \u001b[0;34m+=\u001b[0m \u001b[0;36m1\u001b[0m\u001b[0;34m\u001b[0m\u001b[0;34m\u001b[0m\u001b[0m\n\u001b[1;32m    636\u001b[0m             \u001b[0;32mif\u001b[0m \u001b[0mself\u001b[0m\u001b[0;34m.\u001b[0m\u001b[0m_dataset_kind\u001b[0m \u001b[0;34m==\u001b[0m \u001b[0m_DatasetKind\u001b[0m\u001b[0;34m.\u001b[0m\u001b[0mIterable\u001b[0m \u001b[0;32mand\u001b[0m\u001b[0;31m \u001b[0m\u001b[0;31m\\\u001b[0m\u001b[0;34m\u001b[0m\u001b[0;34m\u001b[0m\u001b[0m\n",
      "\u001b[0;32m~/opt/anaconda3/lib/python3.9/site-packages/torch/utils/data/dataloader.py\u001b[0m in \u001b[0;36m_next_data\u001b[0;34m(self)\u001b[0m\n\u001b[1;32m   1316\u001b[0m                 \u001b[0;31m# no valid `self._rcvd_idx` is found (i.e., didn't break)\u001b[0m\u001b[0;34m\u001b[0m\u001b[0;34m\u001b[0m\u001b[0m\n\u001b[1;32m   1317\u001b[0m                 \u001b[0;32mif\u001b[0m \u001b[0;32mnot\u001b[0m \u001b[0mself\u001b[0m\u001b[0;34m.\u001b[0m\u001b[0m_persistent_workers\u001b[0m\u001b[0;34m:\u001b[0m\u001b[0;34m\u001b[0m\u001b[0;34m\u001b[0m\u001b[0m\n\u001b[0;32m-> 1318\u001b[0;31m                     \u001b[0mself\u001b[0m\u001b[0;34m.\u001b[0m\u001b[0m_shutdown_workers\u001b[0m\u001b[0;34m(\u001b[0m\u001b[0;34m)\u001b[0m\u001b[0;34m\u001b[0m\u001b[0;34m\u001b[0m\u001b[0m\n\u001b[0m\u001b[1;32m   1319\u001b[0m                 \u001b[0;32mraise\u001b[0m \u001b[0mStopIteration\u001b[0m\u001b[0;34m\u001b[0m\u001b[0;34m\u001b[0m\u001b[0m\n\u001b[1;32m   1320\u001b[0m \u001b[0;34m\u001b[0m\u001b[0m\n",
      "\u001b[0;32m~/opt/anaconda3/lib/python3.9/site-packages/torch/utils/data/dataloader.py\u001b[0m in \u001b[0;36m_shutdown_workers\u001b[0;34m(self)\u001b[0m\n\u001b[1;32m   1441\u001b[0m                     \u001b[0;31m# wrong, we set a timeout and if the workers fail to join,\u001b[0m\u001b[0;34m\u001b[0m\u001b[0;34m\u001b[0m\u001b[0m\n\u001b[1;32m   1442\u001b[0m                     \u001b[0;31m# they are killed in the `finally` block.\u001b[0m\u001b[0;34m\u001b[0m\u001b[0;34m\u001b[0m\u001b[0m\n\u001b[0;32m-> 1443\u001b[0;31m                     \u001b[0mw\u001b[0m\u001b[0;34m.\u001b[0m\u001b[0mjoin\u001b[0m\u001b[0;34m(\u001b[0m\u001b[0mtimeout\u001b[0m\u001b[0;34m=\u001b[0m\u001b[0m_utils\u001b[0m\u001b[0;34m.\u001b[0m\u001b[0mMP_STATUS_CHECK_INTERVAL\u001b[0m\u001b[0;34m)\u001b[0m\u001b[0;34m\u001b[0m\u001b[0;34m\u001b[0m\u001b[0m\n\u001b[0m\u001b[1;32m   1444\u001b[0m                 \u001b[0;32mfor\u001b[0m \u001b[0mq\u001b[0m \u001b[0;32min\u001b[0m \u001b[0mself\u001b[0m\u001b[0;34m.\u001b[0m\u001b[0m_index_queues\u001b[0m\u001b[0;34m:\u001b[0m\u001b[0;34m\u001b[0m\u001b[0;34m\u001b[0m\u001b[0m\n\u001b[1;32m   1445\u001b[0m                     \u001b[0mq\u001b[0m\u001b[0;34m.\u001b[0m\u001b[0mcancel_join_thread\u001b[0m\u001b[0;34m(\u001b[0m\u001b[0;34m)\u001b[0m\u001b[0;34m\u001b[0m\u001b[0;34m\u001b[0m\u001b[0m\n",
      "\u001b[0;32m~/opt/anaconda3/lib/python3.9/multiprocessing/process.py\u001b[0m in \u001b[0;36mjoin\u001b[0;34m(self, timeout)\u001b[0m\n\u001b[1;32m    147\u001b[0m         \u001b[0;32massert\u001b[0m \u001b[0mself\u001b[0m\u001b[0;34m.\u001b[0m\u001b[0m_parent_pid\u001b[0m \u001b[0;34m==\u001b[0m \u001b[0mos\u001b[0m\u001b[0;34m.\u001b[0m\u001b[0mgetpid\u001b[0m\u001b[0;34m(\u001b[0m\u001b[0;34m)\u001b[0m\u001b[0;34m,\u001b[0m \u001b[0;34m'can only join a child process'\u001b[0m\u001b[0;34m\u001b[0m\u001b[0;34m\u001b[0m\u001b[0m\n\u001b[1;32m    148\u001b[0m         \u001b[0;32massert\u001b[0m \u001b[0mself\u001b[0m\u001b[0;34m.\u001b[0m\u001b[0m_popen\u001b[0m \u001b[0;32mis\u001b[0m \u001b[0;32mnot\u001b[0m \u001b[0;32mNone\u001b[0m\u001b[0;34m,\u001b[0m \u001b[0;34m'can only join a started process'\u001b[0m\u001b[0;34m\u001b[0m\u001b[0;34m\u001b[0m\u001b[0m\n\u001b[0;32m--> 149\u001b[0;31m         \u001b[0mres\u001b[0m \u001b[0;34m=\u001b[0m \u001b[0mself\u001b[0m\u001b[0;34m.\u001b[0m\u001b[0m_popen\u001b[0m\u001b[0;34m.\u001b[0m\u001b[0mwait\u001b[0m\u001b[0;34m(\u001b[0m\u001b[0mtimeout\u001b[0m\u001b[0;34m)\u001b[0m\u001b[0;34m\u001b[0m\u001b[0;34m\u001b[0m\u001b[0m\n\u001b[0m\u001b[1;32m    150\u001b[0m         \u001b[0;32mif\u001b[0m \u001b[0mres\u001b[0m \u001b[0;32mis\u001b[0m \u001b[0;32mnot\u001b[0m \u001b[0;32mNone\u001b[0m\u001b[0;34m:\u001b[0m\u001b[0;34m\u001b[0m\u001b[0;34m\u001b[0m\u001b[0m\n\u001b[1;32m    151\u001b[0m             \u001b[0m_children\u001b[0m\u001b[0;34m.\u001b[0m\u001b[0mdiscard\u001b[0m\u001b[0;34m(\u001b[0m\u001b[0mself\u001b[0m\u001b[0;34m)\u001b[0m\u001b[0;34m\u001b[0m\u001b[0;34m\u001b[0m\u001b[0m\n",
      "\u001b[0;32m~/opt/anaconda3/lib/python3.9/multiprocessing/popen_fork.py\u001b[0m in \u001b[0;36mwait\u001b[0;34m(self, timeout)\u001b[0m\n\u001b[1;32m     38\u001b[0m             \u001b[0;32mif\u001b[0m \u001b[0mtimeout\u001b[0m \u001b[0;32mis\u001b[0m \u001b[0;32mnot\u001b[0m \u001b[0;32mNone\u001b[0m\u001b[0;34m:\u001b[0m\u001b[0;34m\u001b[0m\u001b[0;34m\u001b[0m\u001b[0m\n\u001b[1;32m     39\u001b[0m                 \u001b[0;32mfrom\u001b[0m \u001b[0mmultiprocessing\u001b[0m\u001b[0;34m.\u001b[0m\u001b[0mconnection\u001b[0m \u001b[0;32mimport\u001b[0m \u001b[0mwait\u001b[0m\u001b[0;34m\u001b[0m\u001b[0;34m\u001b[0m\u001b[0m\n\u001b[0;32m---> 40\u001b[0;31m                 \u001b[0;32mif\u001b[0m \u001b[0;32mnot\u001b[0m \u001b[0mwait\u001b[0m\u001b[0;34m(\u001b[0m\u001b[0;34m[\u001b[0m\u001b[0mself\u001b[0m\u001b[0;34m.\u001b[0m\u001b[0msentinel\u001b[0m\u001b[0;34m]\u001b[0m\u001b[0;34m,\u001b[0m \u001b[0mtimeout\u001b[0m\u001b[0;34m)\u001b[0m\u001b[0;34m:\u001b[0m\u001b[0;34m\u001b[0m\u001b[0;34m\u001b[0m\u001b[0m\n\u001b[0m\u001b[1;32m     41\u001b[0m                     \u001b[0;32mreturn\u001b[0m \u001b[0;32mNone\u001b[0m\u001b[0;34m\u001b[0m\u001b[0;34m\u001b[0m\u001b[0m\n\u001b[1;32m     42\u001b[0m             \u001b[0;31m# This shouldn't block if wait() returned successfully.\u001b[0m\u001b[0;34m\u001b[0m\u001b[0;34m\u001b[0m\u001b[0m\n",
      "\u001b[0;32m~/opt/anaconda3/lib/python3.9/multiprocessing/connection.py\u001b[0m in \u001b[0;36mwait\u001b[0;34m(object_list, timeout)\u001b[0m\n\u001b[1;32m    934\u001b[0m \u001b[0;34m\u001b[0m\u001b[0m\n\u001b[1;32m    935\u001b[0m             \u001b[0;32mwhile\u001b[0m \u001b[0;32mTrue\u001b[0m\u001b[0;34m:\u001b[0m\u001b[0;34m\u001b[0m\u001b[0;34m\u001b[0m\u001b[0m\n\u001b[0;32m--> 936\u001b[0;31m                 \u001b[0mready\u001b[0m \u001b[0;34m=\u001b[0m \u001b[0mselector\u001b[0m\u001b[0;34m.\u001b[0m\u001b[0mselect\u001b[0m\u001b[0;34m(\u001b[0m\u001b[0mtimeout\u001b[0m\u001b[0;34m)\u001b[0m\u001b[0;34m\u001b[0m\u001b[0;34m\u001b[0m\u001b[0m\n\u001b[0m\u001b[1;32m    937\u001b[0m                 \u001b[0;32mif\u001b[0m \u001b[0mready\u001b[0m\u001b[0;34m:\u001b[0m\u001b[0;34m\u001b[0m\u001b[0;34m\u001b[0m\u001b[0m\n\u001b[1;32m    938\u001b[0m                     \u001b[0;32mreturn\u001b[0m \u001b[0;34m[\u001b[0m\u001b[0mkey\u001b[0m\u001b[0;34m.\u001b[0m\u001b[0mfileobj\u001b[0m \u001b[0;32mfor\u001b[0m \u001b[0;34m(\u001b[0m\u001b[0mkey\u001b[0m\u001b[0;34m,\u001b[0m \u001b[0mevents\u001b[0m\u001b[0;34m)\u001b[0m \u001b[0;32min\u001b[0m \u001b[0mready\u001b[0m\u001b[0;34m]\u001b[0m\u001b[0;34m\u001b[0m\u001b[0;34m\u001b[0m\u001b[0m\n",
      "\u001b[0;32m~/opt/anaconda3/lib/python3.9/selectors.py\u001b[0m in \u001b[0;36mselect\u001b[0;34m(self, timeout)\u001b[0m\n\u001b[1;32m    414\u001b[0m         \u001b[0mready\u001b[0m \u001b[0;34m=\u001b[0m \u001b[0;34m[\u001b[0m\u001b[0;34m]\u001b[0m\u001b[0;34m\u001b[0m\u001b[0;34m\u001b[0m\u001b[0m\n\u001b[1;32m    415\u001b[0m         \u001b[0;32mtry\u001b[0m\u001b[0;34m:\u001b[0m\u001b[0;34m\u001b[0m\u001b[0;34m\u001b[0m\u001b[0m\n\u001b[0;32m--> 416\u001b[0;31m             \u001b[0mfd_event_list\u001b[0m \u001b[0;34m=\u001b[0m \u001b[0mself\u001b[0m\u001b[0;34m.\u001b[0m\u001b[0m_selector\u001b[0m\u001b[0;34m.\u001b[0m\u001b[0mpoll\u001b[0m\u001b[0;34m(\u001b[0m\u001b[0mtimeout\u001b[0m\u001b[0;34m)\u001b[0m\u001b[0;34m\u001b[0m\u001b[0;34m\u001b[0m\u001b[0m\n\u001b[0m\u001b[1;32m    417\u001b[0m         \u001b[0;32mexcept\u001b[0m \u001b[0mInterruptedError\u001b[0m\u001b[0;34m:\u001b[0m\u001b[0;34m\u001b[0m\u001b[0;34m\u001b[0m\u001b[0m\n\u001b[1;32m    418\u001b[0m             \u001b[0;32mreturn\u001b[0m \u001b[0mready\u001b[0m\u001b[0;34m\u001b[0m\u001b[0;34m\u001b[0m\u001b[0m\n",
      "\u001b[0;31mKeyboardInterrupt\u001b[0m: "
     ]
    }
   ],
   "source": [
    "# WSLS\n",
    "print('-----WSLS pour NS_rand-----')\n",
    "model_WSLS_random, list_loss_WSLS_random = learnModelWSLS(data_nsrand, num_epochs=5)"
   ]
  },
  {
   "attachments": {},
   "cell_type": "markdown",
   "metadata": {},
   "source": [
    "### Metrique d'evaluation (Standard Deviation)"
   ]
  },
  {
   "cell_type": "code",
   "execution_count": null,
   "metadata": {},
   "outputs": [],
   "source": []
  }
 ],
 "metadata": {
  "kernelspec": {
   "display_name": "Python 3",
   "language": "python",
   "name": "python3"
  },
  "language_info": {
   "codemirror_mode": {
    "name": "ipython",
    "version": 3
   },
   "file_extension": ".py",
   "mimetype": "text/x-python",
   "name": "python",
   "nbconvert_exporter": "python",
   "pygments_lexer": "ipython3",
   "version": "3.9.13"
  },
  "orig_nbformat": 4
 },
 "nbformat": 4,
 "nbformat_minor": 2
}
