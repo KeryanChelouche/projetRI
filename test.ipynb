{
 "cells": [
  {
   "cell_type": "code",
   "execution_count": 9,
   "metadata": {},
   "outputs": [],
   "source": [
    "from l2r_class import *"
   ]
  },
  {
   "cell_type": "code",
   "execution_count": 10,
   "metadata": {},
   "outputs": [
    {
     "name": "stdout",
     "output_type": "stream",
     "text": [
      "[{'pid': '6948601', 'bm25-score': 26.068258, 'ce-score': 3.581289291381836}, {'pid': '5129919', 'bm25-score': 26.007563, 'ce-score': 8.257364273071289}, {'pid': '6717931', 'bm25-score': 25.934547, 'ce-score': 8.866464614868164}, {'pid': '1065943', 'bm25-score': 25.258688, 'ce-score': 5.258519172668457}, {'pid': '1626276', 'bm25-score': 25.153275, 'ce-score': 4.19371223449707}, {'pid': '981824', 'bm25-score': 24.716213, 'ce-score': 8.563857078552246}, {'pid': '6449111', 'bm25-score': 24.62115, 'ce-score': 4.907355785369873}, {'pid': '1028927', 'bm25-score': 24.54112, 'ce-score': 7.617893695831299}, {'pid': '2524942', 'bm25-score': 24.355902, 'ce-score': 1.5268436670303345}, {'pid': '5810175', 'bm25-score': 24.315733, 'ce-score': -0.6152520179748535}, {'pid': '6236527', 'bm25-score': 24.3093, 'ce-score': -2.9456772804260254}, {'pid': '7179545', 'bm25-score': 24.130537, 'ce-score': 10.018341064453125}, {'pid': '168979', 'bm25-score': 24.130537, 'ce-score': 10.202350616455078}, {'pid': '150383', 'bm25-score': 24.026999, 'ce-score': 1.7948371171951294}, {'pid': '168983', 'bm25-score': 23.931519, 'ce-score': 8.693719863891602}, {'pid': '7027047', 'bm25-score': 23.751867, 'ce-score': 4.469407081604004}, {'pid': '3559703', 'bm25-score': 23.708506, 'ce-score': 0.4720204472541809}, {'pid': '8768336', 'bm25-score': 23.655045, 'ce-score': -1.00309157371521}, {'pid': '5476579', 'bm25-score': 23.634827, 'ce-score': 1.8172178268432617}, {'pid': '915244', 'bm25-score': 23.573374, 'ce-score': 1.7467658519744873}, {'pid': '2202253', 'bm25-score': 23.533915, 'ce-score': -1.4857474565505981}, {'pid': '1743842', 'bm25-score': 23.515203, 'ce-score': 4.076294422149658}, {'pid': '7727041', 'bm25-score': 23.480293, 'ce-score': -1.777407169342041}, {'pid': '1036624', 'bm25-score': 23.44868, 'ce-score': -0.7370984554290771}, {'pid': '8432142', 'bm25-score': 23.378412, 'ce-score': 4.278080463409424}, {'pid': '2236979', 'bm25-score': 23.356024, 'ce-score': -1.0950472354888916}, {'pid': '724018', 'bm25-score': 23.303, 'ce-score': 2.5531094074249268}, {'pid': '7179544', 'bm25-score': 23.23503, 'ce-score': 10.004817008972168}, {'pid': '7349780', 'bm25-score': 23.23503, 'ce-score': 10.176589965820312}, {'pid': '7179539', 'bm25-score': 23.164213, 'ce-score': 8.594615936279297}, {'pid': '6072080', 'bm25-score': 23.154572, 'ce-score': 1.8897120952606201}, {'pid': '7790852', 'bm25-score': 23.137955, 'ce-score': 7.299615859985352}, {'pid': '4873670', 'bm25-score': 23.049414, 'ce-score': 8.61693000793457}, {'pid': '4389296', 'bm25-score': 23.043657, 'ce-score': 0.10016749799251556}, {'pid': '2305477', 'bm25-score': 23.0083, 'ce-score': 6.883630752563477}, {'pid': '1626275', 'bm25-score': 22.980803, 'ce-score': 10.320749282836914}, {'pid': '291845', 'bm25-score': 22.946188, 'ce-score': 0.7852426171302795}, {'pid': '1743847', 'bm25-score': 22.919767, 'ce-score': 2.7261080741882324}, {'pid': '1508485', 'bm25-score': 22.919767, 'ce-score': 2.0838329792022705}, {'pid': '4298457', 'bm25-score': 22.919767, 'ce-score': 1.8327460289001465}, {'pid': '1831337', 'bm25-score': 22.769234, 'ce-score': -0.6380012035369873}, {'pid': '1760417', 'bm25-score': 22.765985, 'ce-score': 0.926922082901001}, {'pid': '8768340', 'bm25-score': 22.75751, 'ce-score': 4.037473201751709}, {'pid': '8432143', 'bm25-score': 22.690416, 'ce-score': 2.498434543609619}, {'pid': '1971355', 'bm25-score': 22.671963, 'ce-score': 1.148393154144287}, {'pid': '1133925', 'bm25-score': 22.646973, 'ce-score': 0.13919004797935486}, {'pid': '2105819', 'bm25-score': 22.646744, 'ce-score': 3.2860398292541504}, {'pid': '168975', 'bm25-score': 22.572918, 'ce-score': 10.097441673278809}, {'pid': '5132446', 'bm25-score': 22.504288, 'ce-score': 2.575753688812256}, {'pid': '1316646', 'bm25-score': 22.466309, 'ce-score': 1.7576978206634521}]\n"
     ]
    }
   ],
   "source": [
    "import json\n",
    "fichier = 'msmarco-hard-negatives.jsonl'\n",
    "with open(fichier, 'r') as f:\n",
    "    first_line = f.readline()\n",
    "    data = json.loads(first_line)\n",
    "    print(data['neg']['bm25'])"
   ]
  },
  {
   "cell_type": "code",
   "execution_count": 11,
   "metadata": {},
   "outputs": [
    {
     "name": "stdout",
     "output_type": "stream",
     "text": [
      "510\n",
      "[('571018', '7349777', 1), ('571018', '6948601', 0), ('571018', '5129919', 0), ('571018', '6717931', 0), ('571018', '1065943', 0), ('571018', '1626276', 0), ('571018', '981824', 0), ('571018', '6449111', 0), ('571018', '1028927', 0), ('571018', '2524942', 0), ('832106', '5090093', 1), ('832106', '5090096', 0), ('832106', '210166', 0), ('832106', '4877671', 0), ('832106', '851808', 0), ('832106', '210158', 0), ('832106', '2492227', 0), ('832106', '3094439', 0), ('832106', '5434531', 0), ('832106', '210165', 0)]\n"
     ]
    }
   ],
   "source": [
    "import json\n",
    "\n",
    "# Load the JSON data from a file\n",
    "data_list = []\n",
    "with open('msmarco-hard-negatives.jsonl', 'r') as file:\n",
    "    for line in file:\n",
    "        #print(json.loads(line))\n",
    "        data_list.append(json.loads(line))\n",
    "        if len(data_list) > 50:\n",
    "            break\n",
    "\n",
    "# Now data_list contains multiple JSON objects, one per line from the file\n",
    "data_id = []\n",
    "\n",
    "for data in data_list:\n",
    "    # Extract positive examples\n",
    "    pos_examples = [(data['qid'], pos['pid'], 1) for i, pos in enumerate(data['pos']) if i < 1]\n",
    "\n",
    "    # Extract negative examples with a bm25_score\n",
    "    neg_examples = [(data['qid'], neg['pid'], 0) for i, neg in enumerate(data['neg']['bm25']) if i < 9]\n",
    "\n",
    "    # Combine positive and negative examples\n",
    "    data_id.extend(pos_examples + neg_examples)\n",
    "\n",
    "# Print the final_data\n",
    "print(len(data_id))\n",
    "print(data_id[:20])"
   ]
  },
  {
   "cell_type": "code",
   "execution_count": 12,
   "metadata": {},
   "outputs": [
    {
     "name": "stdout",
     "output_type": "stream",
     "text": [
      "Dataset(id='msmarco-passage/train', provides=['docs', 'queries', 'qrels', 'scoreddocs', 'docpairs'])\n"
     ]
    }
   ],
   "source": [
    "import ir_datasets\n",
    "\n",
    "# Load the msmarco dataset\n",
    "dataset = ir_datasets.load('msmarco-passage/train')\n",
    "store = dataset.docs_store()\n",
    "print(dataset)"
   ]
  },
  {
   "cell_type": "code",
   "execution_count": 13,
   "metadata": {},
   "outputs": [],
   "source": [
    "dict_query = {}\n",
    "\n",
    "for query in dataset.queries_iter():\n",
    "    dict_query[query.query_id] = query.text\n",
    "    "
   ]
  },
  {
   "cell_type": "code",
   "execution_count": 14,
   "metadata": {},
   "outputs": [
    {
     "name": "stdout",
     "output_type": "stream",
     "text": [
      "510\n"
     ]
    }
   ],
   "source": [
    "import numpy as np\n",
    "\n",
    "# Create an empty list to store the modified data\n",
    "final_data = []\n",
    "\n",
    "for data in data_id:\n",
    "    # Extract the values from the original data\n",
    "    dict_value = dict_query[data[0]]\n",
    "    store_value = store.get(data[1])[1]\n",
    "    class_value = data[2]\n",
    "    \n",
    "    # Perform one-hot encoding\n",
    "    class_vector = np.zeros(2)\n",
    "    class_vector[class_value] = 1\n",
    "    \n",
    "    # Create a modified tuple with the encoded class vector\n",
    "    modified_tuple = (dict_value, store_value, class_vector)\n",
    "    \n",
    "    # Append the modified tuple to the list\n",
    "    final_data.append(modified_tuple)\n",
    "\n",
    "# Print the modified_data\n",
    "print(len(final_data))"
   ]
  },
  {
   "cell_type": "code",
   "execution_count": 15,
   "metadata": {},
   "outputs": [
    {
     "name": "stderr",
     "output_type": "stream",
     "text": [
      "Some weights of the model checkpoint at huawei-noah/TinyBERT_General_4L_312D were not used when initializing BertModel: ['cls.predictions.transform.dense.bias', 'cls.predictions.decoder.weight', 'fit_denses.0.weight', 'fit_denses.4.bias', 'cls.seq_relationship.weight', 'fit_denses.4.weight', 'fit_denses.3.weight', 'cls.predictions.transform.dense.weight', 'cls.seq_relationship.bias', 'fit_denses.2.bias', 'fit_denses.2.weight', 'cls.predictions.transform.LayerNorm.weight', 'fit_denses.1.bias', 'cls.predictions.transform.LayerNorm.bias', 'fit_denses.0.bias', 'cls.predictions.bias', 'fit_denses.3.bias', 'fit_denses.1.weight']\n",
      "- This IS expected if you are initializing BertModel from the checkpoint of a model trained on another task or with another architecture (e.g. initializing a BertForSequenceClassification model from a BertForPreTraining model).\n",
      "- This IS NOT expected if you are initializing BertModel from the checkpoint of a model that you expect to be exactly identical (initializing a BertForSequenceClassification model from a BertForSequenceClassification model).\n"
     ]
    }
   ],
   "source": [
    "tokenizer = BertTokenizer.from_pretrained(\"huawei-noah/TinyBERT_General_4L_312D\")\n",
    "bert_model = BertModel.from_pretrained(\"huawei-noah/TinyBERT_General_4L_312D\")"
   ]
  },
  {
   "attachments": {},
   "cell_type": "markdown",
   "metadata": {},
   "source": [
    "### Background: Label Smoothing (LS)"
   ]
  },
  {
   "cell_type": "code",
   "execution_count": 8,
   "metadata": {},
   "outputs": [
    {
     "name": "stderr",
     "output_type": "stream",
     "text": [
      "/Users/karimasadykova/opt/anaconda3/lib/python3.9/site-packages/scipy/__init__.py:146: UserWarning: A NumPy version >=1.16.5 and <1.23.0 is required for this version of SciPy (detected version 1.23.5\n",
      "  warnings.warn(f\"A NumPy version >={np_minversion} and <{np_maxversion}\"\n",
      "/Users/karimasadykova/opt/anaconda3/lib/python3.9/site-packages/scipy/__init__.py:146: UserWarning: A NumPy version >=1.16.5 and <1.23.0 is required for this version of SciPy (detected version 1.23.5\n",
      "  warnings.warn(f\"A NumPy version >={np_minversion} and <{np_maxversion}\"\n",
      "/Users/karimasadykova/opt/anaconda3/lib/python3.9/site-packages/scipy/__init__.py:146: UserWarning: A NumPy version >=1.16.5 and <1.23.0 is required for this version of SciPy (detected version 1.23.5\n",
      "  warnings.warn(f\"A NumPy version >={np_minversion} and <{np_maxversion}\"\n",
      "/Users/karimasadykova/opt/anaconda3/lib/python3.9/site-packages/scipy/__init__.py:146: UserWarning: A NumPy version >=1.16.5 and <1.23.0 is required for this version of SciPy (detected version 1.23.5\n",
      "  warnings.warn(f\"A NumPy version >={np_minversion} and <{np_maxversion}\"\n"
     ]
    },
    {
     "name": "stdout",
     "output_type": "stream",
     "text": [
      "Epoch 0, Loss: 0.6332044396549463\n"
     ]
    }
   ],
   "source": [
    "dataset = LTRDataset(final_data, tokenizer, max_len=512)\n",
    "\n",
    "# Create data loaders\n",
    "loader = DataLoader(dataset, batch_size=16, num_workers=4)\n",
    "\n",
    "# Instantiate the model\n",
    "model = BertLTRModel(bert_model)\n",
    "\n",
    "# Move model to GPU if available\n",
    "device = torch.device('cuda' if torch.cuda.is_available() else 'cpu')\n",
    "model = model.to(device)\n",
    "\n",
    "# Define loss function and optimizer\n",
    "criterion = nn.CrossEntropyLoss(label_smoothing=1e-8)\n",
    "optimizer = torch.optim.AdamW(model.parameters(), lr=1e-5)\n",
    "\n",
    "# Training loop\n",
    "num_epochs = 1\n",
    "for epoch in range(num_epochs):\n",
    "    model.train()\n",
    "    total_loss = 0\n",
    "\n",
    "    for batch in loader:\n",
    "        # Move batch tensors to the same device as the model \n",
    "        input_ids = batch['input_ids'].to(device)\n",
    "        attention_mask = batch['attention_mask'].to(device)\n",
    "        relevance = batch['relevance'].to(device)\n",
    "\n",
    "        # Forward pass\n",
    "        outputs = model(input_ids=input_ids, attention_mask=attention_mask)\n",
    "\n",
    "        # Compute loss\n",
    "        loss = criterion(outputs, relevance) \n",
    "\n",
    "        # Backward pass and optimize\n",
    "        optimizer.zero_grad()\n",
    "        loss.backward()\n",
    "        optimizer.step()\n",
    "\n",
    "        total_loss += loss.item()\n",
    "\n",
    "    print(f'Epoch {epoch}, Loss: {total_loss/len(loader)}')"
   ]
  },
  {
   "attachments": {},
   "cell_type": "markdown",
   "metadata": {},
   "source": [
    "### T-LS"
   ]
  },
  {
   "cell_type": "code",
   "execution_count": 16,
   "metadata": {},
   "outputs": [],
   "source": [
    "def learnModel(final_data, num_epochs=1, tls=-1, eps=1e-8):\n",
    "\tdataset = LTRDataset(final_data, tokenizer, max_len=512)\n",
    "\n",
    "\t# Create data loaders\n",
    "\tloader = DataLoader(dataset, batch_size=16, num_workers=4)\n",
    "\n",
    "\t# Instantiate the model\n",
    "\tmodel = BertLTRModel(bert_model)\n",
    "\n",
    "\t# Move model to GPU if available\n",
    "\tdevice = torch.device('cuda' if torch.cuda.is_available() else 'cpu')\n",
    "\tmodel = model.to(device)\n",
    "\n",
    "\t# Define loss function and optimizer\n",
    "\tcriterion = nn.CrossEntropyLoss(label_smoothing=eps)\n",
    "\toptimizer = torch.optim.AdamW(model.parameters(), lr=1e-5)\n",
    "\n",
    "\t# Training loop\n",
    "\tfor epoch in range(num_epochs):\n",
    "\t\tmodel.train()\n",
    "\t\ttotal_loss = 0\n",
    "\n",
    "\t\tfor batch in loader:\n",
    "\t\t\t# Move batch tensors to the same device as the model \n",
    "\t\t\tinput_ids = batch['input_ids'].to(device)\n",
    "\t\t\tattention_mask = batch['attention_mask'].to(device)\n",
    "\t\t\trelevance = batch['relevance'].to(device)\n",
    "\n",
    "\t\t\t# Forward pass\n",
    "\t\t\toutputs = model(input_ids=input_ids, attention_mask=attention_mask)\n",
    "\n",
    "\t\t\t# Compute loss\n",
    "\t\t\tif tls == num_epochs:\n",
    "\t\t\t\tcriterion = nn.CrossEntropyLoss()\n",
    "\t\t\tloss = criterion(outputs, relevance) \n",
    "\n",
    "\t\t\t# Backward pass and optimize\n",
    "\t\t\toptimizer.zero_grad()\n",
    "\t\t\tloss.backward()\n",
    "\t\t\toptimizer.step()\n",
    "\n",
    "\t\t\ttotal_loss += loss.item()\n",
    "\t\tprint(f'Epoch {epoch}, Loss: {total_loss/len(loader)}')\n",
    "\t"
   ]
  },
  {
   "cell_type": "code",
   "execution_count": 17,
   "metadata": {},
   "outputs": [
    {
     "name": "stderr",
     "output_type": "stream",
     "text": [
      "/Users/karimasadykova/opt/anaconda3/lib/python3.9/site-packages/scipy/__init__.py:146: UserWarning: A NumPy version >=1.16.5 and <1.23.0 is required for this version of SciPy (detected version 1.23.5\n",
      "  warnings.warn(f\"A NumPy version >={np_minversion} and <{np_maxversion}\"\n",
      "/Users/karimasadykova/opt/anaconda3/lib/python3.9/site-packages/scipy/__init__.py:146: UserWarning: A NumPy version >=1.16.5 and <1.23.0 is required for this version of SciPy (detected version 1.23.5\n",
      "  warnings.warn(f\"A NumPy version >={np_minversion} and <{np_maxversion}\"\n",
      "/Users/karimasadykova/opt/anaconda3/lib/python3.9/site-packages/scipy/__init__.py:146: UserWarning: A NumPy version >=1.16.5 and <1.23.0 is required for this version of SciPy (detected version 1.23.5\n",
      "  warnings.warn(f\"A NumPy version >={np_minversion} and <{np_maxversion}\"\n",
      "/Users/karimasadykova/opt/anaconda3/lib/python3.9/site-packages/scipy/__init__.py:146: UserWarning: A NumPy version >=1.16.5 and <1.23.0 is required for this version of SciPy (detected version 1.23.5\n",
      "  warnings.warn(f\"A NumPy version >={np_minversion} and <{np_maxversion}\"\n"
     ]
    },
    {
     "name": "stdout",
     "output_type": "stream",
     "text": [
      "Epoch 0, Loss: 0.5826489627361298\n"
     ]
    }
   ],
   "source": [
    "learnModel(final_data)"
   ]
  }
 ],
 "metadata": {
  "kernelspec": {
   "display_name": "Python 3",
   "language": "python",
   "name": "python3"
  },
  "language_info": {
   "codemirror_mode": {
    "name": "ipython",
    "version": 3
   },
   "file_extension": ".py",
   "mimetype": "text/x-python",
   "name": "python",
   "nbconvert_exporter": "python",
   "pygments_lexer": "ipython3",
   "version": "3.9.13"
  },
  "orig_nbformat": 4
 },
 "nbformat": 4,
 "nbformat_minor": 2
}
